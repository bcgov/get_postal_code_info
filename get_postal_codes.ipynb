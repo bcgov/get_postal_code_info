{
 "cells": [
  {
   "cell_type": "markdown",
   "id": "50b4faef-c973-4a74-a60c-9c608341f3e8",
   "metadata": {},
   "source": [
    "### Imports"
   ]
  },
  {
   "cell_type": "code",
   "execution_count": 1,
   "id": "ab37afbf-a492-4475-9348-30f09d65952a",
   "metadata": {},
   "outputs": [],
   "source": [
    "import itertools as it\n",
    "import pandas as pd\n",
    "import string"
   ]
  },
  {
   "cell_type": "markdown",
   "id": "76602212-29a3-49cb-a90c-bff0ba8d201a",
   "metadata": {},
   "source": [
    "### Generate postal codes"
   ]
  },
  {
   "cell_type": "code",
   "execution_count": 2,
   "id": "bfefc89a-e326-4c87-81d3-f618f6a0907d",
   "metadata": {},
   "outputs": [],
   "source": [
    "letters = list(string.ascii_uppercase)"
   ]
  },
  {
   "cell_type": "code",
   "execution_count": 3,
   "id": "7de07f28-c0bc-49ac-96cd-be376841988f",
   "metadata": {},
   "outputs": [],
   "source": [
    "numbers = list(map(str, (list(range(10)))))"
   ]
  },
  {
   "cell_type": "code",
   "execution_count": 4,
   "id": "89fbd666-424e-4786-8ca7-d9db2aa2c221",
   "metadata": {},
   "outputs": [],
   "source": [
    "postal_product = list(it.product(['V'], numbers, letters, numbers, letters, numbers))"
   ]
  },
  {
   "cell_type": "code",
   "execution_count": 5,
   "id": "49ff7a3a-8c88-4f6f-84ec-15992c85851b",
   "metadata": {},
   "outputs": [],
   "source": [
    "postal_codes = list(map(''.join, postal_product))"
   ]
  },
  {
   "cell_type": "code",
   "execution_count": 6,
   "id": "580086c1-07f8-4252-884b-fa9e23d0ffee",
   "metadata": {},
   "outputs": [],
   "source": [
    "df = pd.DataFrame(postal_codes, columns = ['Postal codes'])"
   ]
  },
  {
   "cell_type": "code",
   "execution_count": 7,
   "id": "22d5a9e0-e290-4f3c-8203-edc59c86f6a3",
   "metadata": {},
   "outputs": [],
   "source": [
    "df.to_csv('Work_tables/postal_codes_list.csv', index = False) # Save them"
   ]
  },
  {
   "cell_type": "code",
   "execution_count": null,
   "id": "0c7bfeb0-d215-45e8-801a-eb3cbc206390",
   "metadata": {},
   "outputs": [],
   "source": []
  }
 ],
 "metadata": {
  "kernelspec": {
   "display_name": "Python [conda env:bc_stats]",
   "language": "python",
   "name": "conda-env-bc_stats-py"
  },
  "language_info": {
   "codemirror_mode": {
    "name": "ipython",
    "version": 3
   },
   "file_extension": ".py",
   "mimetype": "text/x-python",
   "name": "python",
   "nbconvert_exporter": "python",
   "pygments_lexer": "ipython3",
   "version": "3.11.4"
  }
 },
 "nbformat": 4,
 "nbformat_minor": 5
}
