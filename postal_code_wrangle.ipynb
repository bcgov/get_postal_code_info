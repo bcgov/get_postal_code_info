{
 "cells": [
  {
   "cell_type": "markdown",
   "id": "7f4d3d07-8cbc-45cc-9306-4c114a844055",
   "metadata": {},
   "source": [
    "### Imports"
   ]
  },
  {
   "cell_type": "code",
   "execution_count": 1,
   "id": "0fef0a91-6305-4bb2-a2d1-934ac1d995c5",
   "metadata": {},
   "outputs": [],
   "source": [
    "import itertools as it\n",
    "import string\n",
    "import pandas as pd\n",
    "from datetime import datetime"
   ]
  },
  {
   "cell_type": "markdown",
   "id": "ff53e182-7e9e-4d3d-b3b8-4e14e57509e0",
   "metadata": {},
   "source": [
    "### Data"
   ]
  },
  {
   "cell_type": "code",
   "execution_count": 2,
   "id": "d43c3ffa-2e0a-4ba9-9a33-97896a811565",
   "metadata": {},
   "outputs": [],
   "source": [
    "pcdf = pd.read_csv('Work_tables/gcs_results.csv').dropna(subset=['ACTIVE'])"
   ]
  },
  {
   "cell_type": "code",
   "execution_count": 3,
   "id": "f7d6164d-fa30-4b0c-aa33-e661d4a21ec3",
   "metadata": {},
   "outputs": [],
   "source": [
    "excel_lookup = pd.ExcelFile('Work_tables/GCS_Lookup_Table.xlsx')"
   ]
  },
  {
   "cell_type": "markdown",
   "id": "5585a43b-7d3e-405b-8b5c-3d60ca25e817",
   "metadata": {},
   "source": [
    "### Combine geocoder results and lookup tables"
   ]
  },
  {
   "cell_type": "code",
   "execution_count": 4,
   "id": "3fdaa86f-e3c0-4646-ac83-9dedea1e25ef",
   "metadata": {},
   "outputs": [],
   "source": [
    "pcdf = pcdf.loc[pcdf['ACTIVE'] == 'Y']"
   ]
  },
  {
   "cell_type": "code",
   "execution_count": 5,
   "id": "e512d5cf-868d-4f8b-be52-7fca52dff3b5",
   "metadata": {},
   "outputs": [],
   "source": [
    "pcdf = pcdf.drop('ACTIVE', axis=1)"
   ]
  },
  {
   "cell_type": "code",
   "execution_count": 6,
   "id": "4e293b46-ea5b-4ae0-86ed-3f1d3c7c866d",
   "metadata": {},
   "outputs": [],
   "source": [
    "sheet_names = excel_lookup.sheet_names"
   ]
  },
  {
   "cell_type": "code",
   "execution_count": 7,
   "id": "a0025ce9-6019-4c9e-b59d-c33c1addf3c1",
   "metadata": {},
   "outputs": [],
   "source": [
    "common_sheets = list(set(pcdf.columns).intersection(sheet_names))"
   ]
  },
  {
   "cell_type": "code",
   "execution_count": 8,
   "id": "d666f241-7537-450c-8cd2-b5f1c91c4711",
   "metadata": {},
   "outputs": [],
   "source": [
    "lookup_dict = {}"
   ]
  },
  {
   "cell_type": "code",
   "execution_count": 9,
   "id": "f9b062e6-2e8a-47e7-9c3e-af09324d8e5a",
   "metadata": {},
   "outputs": [],
   "source": [
    "for s in common_sheets:\n",
    "\n",
    "    lookup_dict[s] =  {'file': pd.read_excel('Work_tables/GCS_Lookup_Table.xlsx', sheet_name = s)}\n",
    "    lookup_dict[s]['key'] = ''.join(set(lookup_dict[s]['file'].columns.to_list()).intersection(set(pcdf.columns.to_list())))\n",
    "    lookup_dict[s]['values'] = lookup_dict[s]['file'].columns.to_list()\n",
    "    lookup_dict[s]['values'].remove(lookup_dict[s]['key'])\n",
    "    numeric_lookup_cols = lookup_dict[s]['file'].select_dtypes(include='number').columns.tolist()\n",
    "    lookup_dict[s]['file'][numeric_lookup_cols] = lookup_dict[s]['file'][numeric_lookup_cols].astype('float')"
   ]
  },
  {
   "cell_type": "markdown",
   "id": "3ccdb6fc-19e5-4fa7-8d45-607808408c22",
   "metadata": {},
   "source": [
    "Join geocoder results with the look up table"
   ]
  },
  {
   "cell_type": "code",
   "execution_count": 10,
   "id": "125dd5ea-873c-47c6-9e9f-d226445b1931",
   "metadata": {},
   "outputs": [],
   "source": [
    "for sheet in common_sheets:\n",
    "    pcdf = pcdf.merge(lookup_dict[sheet]['file'], how = 'left')"
   ]
  },
  {
   "cell_type": "code",
   "execution_count": 11,
   "id": "fd99b78b-9085-4a4a-bf0b-5c9e11d2310a",
   "metadata": {},
   "outputs": [
    {
     "name": "stdout",
     "output_type": "stream",
     "text": [
      "CDCSD_2021: CDCSDNAME. No issues\n",
      "CDCSD_2021: CDCSDTYPE. No issues\n",
      "DPL_2021: DPLNAME. No issues\n",
      "CMACA_2021: CMANAME. No issues\n",
      "POPCTR_2021: PCNAME. No issues\n",
      "CD_2021: CDNAME. No issues\n",
      "DR_2021: DRNAME. No issues\n"
     ]
    }
   ],
   "source": [
    "for sheet in common_sheets:\n",
    "    for i in range(len(lookup_dict[sheet]['values'])):\n",
    "\n",
    "        no_match_count = (pcdf[lookup_dict[sheet]['file']\n",
    "             .columns.to_list()]\n",
    "             .loc[(pcdf[lookup_dict[sheet]['key']].isna() == False) & pcdf[lookup_dict[sheet]['values'][i]]\n",
    "             .isna()]\n",
    "             .shape[0]\n",
    "            )\n",
    "        \n",
    "        if no_match_count != 0:\n",
    "            print(f\"{sheet}: {lookup_dict[sheet]['values'][i]}. Count: {no_match_count}\")\n",
    "        else:\n",
    "            print(f\"{sheet}: {lookup_dict[sheet]['values'][i]}. No issues\")"
   ]
  },
  {
   "cell_type": "code",
   "execution_count": 12,
   "id": "34227571-dc73-4027-8edc-1e3bdf2fae42",
   "metadata": {},
   "outputs": [],
   "source": [
    "for sheet in lookup_dict:\n",
    "    new_loc = pcdf.columns.get_loc(lookup_dict[sheet]['key']) + 1\n",
    "    for i in range(len(lookup_dict[sheet]['values'])):\n",
    "        col_to_move = pcdf.pop(lookup_dict[sheet]['values'][i])\n",
    "        pcdf.insert(new_loc, lookup_dict[sheet]['values'][i], col_to_move)"
   ]
  },
  {
   "cell_type": "code",
   "execution_count": 14,
   "id": "a3401761-57e9-4bee-9ac4-a5b1f70c1fed",
   "metadata": {},
   "outputs": [],
   "source": [
    "pcdf.to_excel(''.join(\n",
    "    ['_'.join(\n",
    "        ['Geocoded_datasets/Geocoded_postal_codes', \n",
    "         datetime.today().strftime('%Y_%m_%d_time_%H_%M')]\n",
    "    ), '.xlsx']),\n",
    "    index=False\n",
    "    )"
   ]
  },
  {
   "cell_type": "code",
   "execution_count": null,
   "id": "6a6b5544-df8f-429a-999c-751239b16b44",
   "metadata": {},
   "outputs": [],
   "source": []
  }
 ],
 "metadata": {
  "kernelspec": {
   "display_name": "Python [conda env:bc_stats]",
   "language": "python",
   "name": "conda-env-bc_stats-py"
  },
  "language_info": {
   "codemirror_mode": {
    "name": "ipython",
    "version": 3
   },
   "file_extension": ".py",
   "mimetype": "text/x-python",
   "name": "python",
   "nbconvert_exporter": "python",
   "pygments_lexer": "ipython3",
   "version": "3.11.4"
  }
 },
 "nbformat": 4,
 "nbformat_minor": 5
}
